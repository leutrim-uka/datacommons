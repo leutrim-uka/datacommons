{
 "cells": [
  {
   "cell_type": "code",
   "execution_count": 23,
   "metadata": {
    "collapsed": true
   },
   "outputs": [],
   "source": [
    "import time\n",
    "import pandas as pd\n",
    "import pickle\n",
    "import requests"
   ]
  },
  {
   "cell_type": "code",
   "execution_count": 24,
   "outputs": [],
   "source": [
    "# these languages will be used to get the city articles from wikipedia\n",
    "\n",
    "language_codes = ['en', 'de', 'fr', 'es', 'ru', 'ja', 'zh', 'pt', 'it', 'fa', 'pl', 'ar', 'nl', 'uk', 'he', 'tr', 'cs', 'id', 'sv', 'ko', 'fi', 'vi', 'hu', 'ca', 'th', 'no', 'hi', 'bn', 'sr', 'el', 'ro', 'uz', 'et', 'da', 'bg', 'az', 'ms', 'sk','hy', 'hr', 'eu', 'kk', 'sl', 'lt', 'eo', 'lv', 'ka', 'gl', 'be', 'ta', 'sq', 'ur', 'ml', 'mk', 'kn', 'af']"
   ],
   "metadata": {
    "collapsed": false
   }
  },
  {
   "cell_type": "code",
   "execution_count": 32,
   "outputs": [
    {
     "name": "stdout",
     "output_type": "stream",
     "text": [
      "Success: de\n",
      "Success: fr\n",
      "Success: es\n",
      "Success: ru\n",
      "Success: ja\n",
      "Success: zh\n",
      "Success: pt\n",
      "Success: it\n",
      "Success: fa\n",
      "Success: pl\n",
      "Success: ar\n",
      "Success: nl\n",
      "Success: uk\n",
      "Success: he\n",
      "Success: tr\n",
      "Success: cs\n",
      "Success: id\n",
      "Success: sv\n",
      "Success: ko\n",
      "Success: fi\n",
      "Success: vi\n",
      "Success: hu\n",
      "Success: ca\n",
      "Success: th\n",
      "Success: no\n",
      "Success: hi\n",
      "Success: bn\n",
      "Success: sr\n",
      "Success: el\n",
      "Success: ro\n",
      "Success: uz\n",
      "Success: et\n",
      "Success: da\n",
      "Success: bg\n",
      "Success: az\n",
      "Success: ms\n",
      "Success: sk\n",
      "Success: hy\n",
      "Success: hr\n",
      "Success: eu\n",
      "Success: kk\n",
      "Success: sl\n",
      "Success: lt\n",
      "Success: eo\n",
      "Success: lv\n",
      "Success: ka\n",
      "Success: gl\n",
      "Success: be\n",
      "Success: ta\n",
      "Success: sq\n",
      "Success: ur\n",
      "Success: ml\n",
      "Success: mk\n",
      "Success: kn\n",
      "Success: af\n"
     ]
    }
   ],
   "source": [
    "# The SPARQL query endpoint\n",
    "url = 'https://query.wikidata.org/sparql'\n",
    "\n",
    "for lang in language_codes[1:]:\n",
    "    # Your SPARQL query\n",
    "    query = (\n",
    "    \"SELECT ?article WHERE {\"\n",
    "    \"?city wdt:P31 / wdt:P279* wd:Q515 .\"\n",
    "    \"?article schema:about ?city ;\"\n",
    "    f\"schema:isPartOf <https://{lang}.wikipedia.org/> .\"\n",
    "    \"SERVICE wikibase:label { bd:serviceParam wikibase:language \\\"\" + lang + \"\\\" . }\"\n",
    "    \"}\"\n",
    ")\n",
    "\n",
    "    # Make the GET request\n",
    "    response = requests.get(url, params={'query': query, 'format': 'json'})\n",
    "\n",
    "    # Check if the request was successful\n",
    "    if response.ok:\n",
    "        # Parse the response to JSON\n",
    "        data = response.json()\n",
    "        # Do something with the data\n",
    "        print(f\"Success: {lang}\")\n",
    "    else:\n",
    "        print(\"Error:\", response.status_code)\n",
    "        time.sleep(5)\n",
    "        continue\n",
    "\n",
    "    list_of_links = [item['article']['value'] for item in data['results']['bindings']]\n",
    "    cityname_list = [name.split(\"/\")[-1] for name in list_of_links]\n",
    "\n",
    "    with open(f\"{lang}_citynames.pkl\", \"wb\") as f:\n",
    "        pickle.dump(cityname_list, f)\n",
    "\n",
    "    time.sleep(5)\n"
   ],
   "metadata": {
    "collapsed": false
   }
  },
  {
   "cell_type": "code",
   "execution_count": 18,
   "outputs": [
    {
     "data": {
      "text/plain": "['San_Francisco',\n 'Kampala',\n 'Juba',\n 'Daressalam',\n 'Bandar_Seri_Begawan',\n 'Verona',\n 'Ptuj',\n 'Rade%C4%8De',\n 'Timbuktu',\n 'Esch_an_der_Alzette',\n 'Leer_(Ostfriesland)',\n 'Leipzig',\n 'Mbabane',\n 'London',\n 'Zagorje_ob_Savi',\n 'Yellowknife_(Stadt)',\n 'Whitehorse',\n 'Moroni_(Komoren)',\n 'Detmold',\n 'Winnipeg',\n 'Toronto',\n 'Konstantinopel',\n 'Enkhuizen',\n 'Los_Angeles',\n 'Luanda',\n 'Metlika',\n 'Me%C5%BEica',\n 'Murska_Sobota',\n 'Canc%C3%BAn',\n 'Thimphu',\n 'Khartum',\n 'Postojna',\n 'Bern',\n 'Ru%C5%A1e',\n 'Se%C5%BEana',\n 'Ravne_na_Koro%C5%A1kem',\n 'Mal%C3%A9',\n 'Florenz',\n 'Slovenj_Gradec',\n 'Velenje',\n 'Slovenska_Bistrica',\n 'Trebnje_(Trebnje)',\n 'Duschanbe',\n 'Kairo',\n 'Maldonado_(Stadt)',\n 'Differdingen',\n 'Maseru',\n 'Roermond',\n 'Edmonton',\n 'Alexandria',\n 'Gaborone',\n 'Nanaimo',\n 'Busan',\n 'S%C3%A3o_Tom%C3%A9',\n 'Hengelo',\n 'Ballarat',\n 'Palmerston_(Northern_Territory)',\n 'Birmingham',\n 'Nuuk',\n 'Windhoek',\n 'Biella',\n 'Erode',\n 'Helmond',\n 'Regina_(Saskatchewan)',\n 'Nanjing',\n 'Charlottetown',\n 'Harare',\n 'Alexandria_(Virginia)',\n 'Coimbatore',\n 'Salem_(Indien)',\n 'Norderstedt',\n 'Fredericton',\n 'Haarlem',\n 'Krymsk',\n 'Port_Louis',\n 'Halifax_(Nova_Scotia)',\n 'Purmerend',\n 'Weesp',\n 'S%C3%A3o_Paulo',\n 'Malm%C3%B6',\n 'Kampen_(Niederlande)',\n 'IJsselstein',\n 'Manchester',\n 'Nassau_(Bahamas)',\n 'Dinslaken',\n 'Taschkent',\n 'Victoria_(Seychellen)',\n 'Vianen',\n 'Mysuru',\n 'Douglas_(Isle_of_Man)',\n 'Offenburg',\n 'Fudschaira',\n 'Singapur',\n 'Gramsh',\n 'Likasi',\n 'Shijak',\n 'Sanaa',\n 'Elche',\n 'Neubrandenburg',\n 'C%C3%ABrrik',\n 'Patos',\n 'Warschau',\n 'Saskatoon',\n 'Neapel',\n 'L%C3%BCttich',\n 'Belfast',\n 'Modena',\n 'Rr%C3%ABshen',\n 'Poli%C3%A7an',\n 'Roskovec',\n 'Wesel',\n 'Cardiff',\n 'Palermo',\n 'Frankfurt_(Oder)',\n 'Ku%C3%A7ova',\n 'Librazhd',\n 'La%C3%A7',\n 'Georgetown_(Guyana)',\n 'Parma',\n 'Pj%C3%B6ngjang',\n 'Friedrichshafen',\n 'Glasgow',\n 'Pescara',\n 'Cambridge',\n 'B%C3%B6hlen_(Sachsen)',\n 'Zwenkau',\n 'P%C3%ABrrenjas',\n 'Molfetta',\n 'Rubik_(Albanien)',\n 'Pulheim',\n 'Bad_Salzuflen',\n 'Skopje',\n 'Skierniewice',\n 'Siena',\n 'San_Pedro_de_la_Paz',\n 'Arusha',\n 'Nordhorn',\n 'Gdynia',\n 'Wiehl',\n 'Sarajevo',\n 'Farrukhabad',\n 'Surat',\n 'Gori',\n 'Urbino',\n 'Stettin',\n 'Barquisimeto',\n 'Tirana',\n 'Braunschweig',\n 'Szczebrzeszyn',\n 'Hetauda',\n 'Udine',\n 'H%C3%B8rsholm',\n 'Darwin_(Northern_Territory)',\n 'Ljubljana',\n 'Varberg',\n 'Viborg',\n 'Vrhnika',\n 'Madrid',\n 'Col%C3%B3n_(Kuba)',\n 'Sagua_la_Grande',\n 'Chongqing',\n 'N%C3%A6stved',\n 'S%C3%B8nderborg',\n 'Mailand',\n 'W%C4%85chock',\n 'Adelaide',\n 'Fredericia',\n 'Silkeborg',\n 'Tianjin',\n 'Anuradhapura',\n '%C5%81%C3%B3d%C5%BA',\n 'Altena',\n 'Z%C3%BClpich',\n 'Lahore',\n 'Bath',\n 'Oslo',\n 'Asunci%C3%B3n',\n 'Durban',\n 'Stellenbosch',\n 'Junagadh',\n 'Hj%C3%B8rring',\n 'K%C3%B8ge',\n 'Bras%C3%ADlia',\n 'Machatschkala',\n 'Triest',\n 'Chi%C8%99in%C4%83u',\n 'Novo_mesto',\n 'Lima',\n 'Bradford',\n 'Vadodara',\n 'Gandhinagar',\n 'Katowice',\n 'W%C3%BCrzburg',\n 'Alicante',\n 'San_Rafael_(Argentinien)',\n 'Swansea',\n 'Treviso',\n 'Canberra',\n 'Venedig',\n 'A%C5%9Fgabat',\n 'Tychy',\n 'Paramaribo',\n 'Mary_(Turkmenistan)',\n 'Jericho',\n 'Sneek',\n 'Bristol',\n 'Rzesz%C3%B3w',\n 'Ulm',\n 'Miranda_de_Ebro',\n 'Dubai',\n 'Ludwigsburg',\n 'Thiva',\n 'Olot',\n 'Edinburgh',\n 'Br%C3%BCgge',\n 'San_Jos%C3%A9_(Costa_Rica)',\n 'Bergamo',\n 'Buxoro',\n 'City_of_London',\n 'Sabadell',\n 'Padua',\n 'Kathmandu',\n 'Ulaanbaatar',\n 'Samarqand',\n 'Jerez_de_la_Frontera',\n 'Vila-real_(Castell%C3%B3)',\n 'Belmopan',\n 'Scharm_asch-Schaich',\n 'M%C3%A9rida_(Venezuela)',\n 'Sydney',\n 'Amsterdam',\n 'Podgorica',\n 'Trier',\n 'Hualp%C3%A9n',\n 'Ronda',\n 'Bethlehem',\n 'Byzantion',\n 'Melbourne',\n 'Groningen',\n 'Tell_Kalach',\n 'Arabsiyo',\n 'Liverpool',\n 'Nakskov',\n 'Imperia_(Ligurien)',\n 'Savona',\n 'Perth',\n 'Bia%C5%82ystok',\n 'Petra_(Jordanien)',\n 'Pristina',\n 'Aksum',\n 'Cottbus',\n 'Piacenza',\n 'Assen',\n 'Reggio_nell%E2%80%99Emilia',\n 'Nowy_S%C4%85cz',\n 'Kabul',\n 'Panama-Stadt',\n 'Peking',\n '%C4%90%C3%A0_N%E1%BA%B5ng',\n 'Ferrara',\n 'Zadar',\n 'Vukovar',\n 'Ravenna',\n 'Uppsala',\n 'Lhasa',\n 'Forl%C3%AC',\n 'Ancona',\n 'Tiflis',\n 'Leeuwarden',\n 'Cuneo',\n 'Ko%C5%A1ice',\n 'Perugia',\n 'Rimini',\n 'Appingedam',\n 'Carrara',\n 'Batumi',\n 'Kauhajoki',\n 'Alaj%C3%A4rvi',\n 'Alavus',\n 'L%E2%80%99Aquila',\n 'Mardsch_Uyun',\n 'Lucca',\n 'Kauhava',\n 'Kurikka',\n 'Maribor',\n 'Bari',\n 'Novara',\n 'Pisa',\n 'Alessandria',\n 'Koper',\n 'Celje',\n 'Potenza',\n 'Asti',\n '%C5%BDilina',\n 'Rabat',\n 'Trondheim',\n 'Sein%C3%A4joki',\n '%C3%84ht%C3%A4ri',\n 'Prato_(Toskana)',\n 'Ahmedabad',\n 'Kranj',\n 'Lecce',\n 'Brescia',\n 'Nabat%C3%A4a_(Stadt)',\n 'Pre%C5%A1ov',\n 'Algier',\n 'Coventry',\n 'Latina_(Latium)',\n 'Jounieh',\n 'Trnava',\n 'St_Albans',\n 'Salerno',\n 'Foggia',\n 'Cremona',\n 'Esbjerg',\n 'Tripolis',\n 'Jamnagar',\n 'Mumbai',\n 'Monza',\n 'Lule%C3%A5',\n 'Barletta',\n 'Varese',\n 'Andacollo',\n 'Alayh_(Ort)',\n 'Poprad',\n 'Andria',\n 'Tarent',\n 'Dschibuti_(Stadt)',\n 'Nitra',\n 'Uchquduq',\n 'Avignon',\n 'Jerusalem',\n 'Verbania',\n '%C5%A0apinuwa',\n 'Dordrecht',\n 'Vibo_Valentia',\n 'Sassari',\n 'Calais',\n 'Asmara',\n 'Le_Tampon',\n 'Antalya',\n 'Zoetermeer',\n 'Roskilde',\n 'Syrakus',\n 'Irkutsk',\n 'Helsing%C3%B8r',\n 'Wageningen',\n 'Como',\n 'Niamey',\n 'Agrigent',\n 'Ciudad_Bol%C3%ADvar',\n 'Layla_(Ort)',\n 'Poitiers',\n 'Maastricht',\n 'Nouakchott',\n 'Huechuraba',\n 'Lalitpur_(Nepal)',\n 'Vejle',\n 'Martin_(Slowakei)',\n 'Arnhem',\n 'Crotone',\n 'Castellammare_di_Stabia',\n 'Kolding',\n 'Avil%C3%A9s',\n 'Egilssta%C3%B0ir',\n 'Buin',\n 'Chicago',\n 'Messina',\n 'Zahl%C3%A9',\n 'Vicenza',\n 'Bergen_(Norwegen)',\n 'Rietavas',\n 'N%E2%80%99Djamena',\n 'Chennai',\n 'Bamako',\n 'Livorno',\n 'K%C3%B6rfez',\n 'Kladovo',\n 'G%C3%B6lc%C3%BCk_(Kocaeli)',\n 'Voerde_(Niederrhein)',\n 'Saarlouis',\n 'Hohnstein_(S%C3%A4chsische_Schweiz)',\n 'Al-Baha',\n 'Randers',\n 'Papenburg',\n 'Wesseling',\n 'Conakry',\n 'Gibraltar',\n 'Gattschina',\n 'Holstebro',\n 'Dschisan_(Stadt)',\n 'Sant_Joan_Desp%C3%AD',\n 'Badajoz',\n 'Dhaka',\n 'Belgrad',\n 'Albstadt',\n 'L%C3%B6rrach',\n 'Thatta',\n 'Ra%27s_Tanura',\n 'Castell%C3%B3_de_la_Plana',\n 'La_Calera_(Chile)',\n 'Lugano',\n 'Shenzhen',\n 'Bengaluru',\n 'Casablanca',\n 'Bissau',\n 'Bre%C5%BEice',\n 'Bovec',\n 'Terni',\n 'Casablanca_(Chile)',\n 'Holb%C3%A6k',\n 'Svendborg',\n 'Genua',\n '%C4%8Crnomelj',\n 'Cerknica',\n 'Dom%C5%BEale',\n 'Monrovia',\n 'Hongkong',\n 'Wismar',\n 'Al-%CA%BFUla',\n 'Herning',\n 'Banjul',\n 'Badalona',\n 'Islamabad',\n 'Br%C3%BChl_(Rheinland)',\n 'Schwarzwald',\n 'Frederikshavn',\n 'Hiller%C3%B8d',\n 'Sant_Adri%C3%A0_de_Bes%C3%B2s',\n 'Sant_Feliu_de_Llobregat',\n 'Tarnobrzeg',\n 'Kozhikode',\n 'Dravograd',\n 'Praia',\n 'Buenos_Aires',\n 'Lahti',\n 'Accra',\n 'Ca%C3%B1ete_(Chile)',\n 'Seoul',\n 'Assuan',\n 'Migues',\n 'Tucupita',\n 'Fatehpur_Sikri',\n 'Martwili',\n 'City_of_Westminster',\n 'Barcelona',\n 'Asyut',\n 'Gornja_Radgona',\n 'Grosuplje',\n 'Hrastnik',\n 'Ilirska_Bistrica',\n 'Maikop',\n 'Lagos',\n 'Akureyri',\n 'Kamnik',\n 'Izola',\n 'Mexiko-Stadt',\n 'Canterbury',\n 'Lendava',\n 'Kostanjevica_na_Krki',\n 'Chiguayante',\n 'Straelen',\n 'Coswig_(Sachsen)',\n 'Durham',\n 'Jimaguay%C3%BA',\n 'Chengdu',\n 'Nagpur',\n 'Machmur',\n 'Lincoln_(Lincolnshire)',\n 'Heredia',\n 'Bulajew',\n 'Damaskus',\n 'Abidjan',\n 'Alexandria',\n 'Puerto_Lim%C3%B3n',\n 'Cartago',\n 'Sparta',\n 'Abu_Dhabi',\n 'Freetown',\n 'G%C3%BCtersloh',\n 'Crotone',\n 'Jalgaon',\n 'Jalna',\n 'Puntarenas',\n 'Akaba_(Jordanien)',\n 'Lom%C3%A9',\n 'Syrakus',\n 'El_Alto',\n 'Gerasa',\n 'Schibin_al-Kaum',\n 'Ile-Ife',\n 'Hradec_Kr%C3%A1lov%C3%A9',\n 'Athen',\n 'Reggio_Calabria',\n 'Kingston_(Norfolkinsel)',\n 'Kozani',\n 'Kor%C4%8Dula_(Stadt)',\n 'Esslingen_am_Neckar',\n 'Jamestown_(St._Helena)',\n 'Hamilton_(Bermuda)',\n 'Vinh',\n 'Gandia',\n 'Tekirda%C4%9F',\n 'Pori',\n 'Abuja',\n 'Tarent',\n 'Plymouth_(Montserrat)',\n 'Jaffa',\n 'Fo%C4%8Da',\n 'Messina',\n 'Caracas',\n 'The_Valley_(Anguilla)',\n 'Mzcheta',\n 'Truro_(Cornwall)',\n 'Porto-Novo',\n 'Pune',\n 'Agrigent',\n 'Ar-Ramtha',\n 'Al-Karak_(Jordanien)',\n 'Omdurman',\n 'Teos',\n 'Guatemala-Stadt',\n 'Invercargill',\n 'Ma%CA%BFan',\n 'Amman',\n 'Osmaniye',\n 'Akrokorinth',\n 'Akropolis_(Athen)',\n 'Jalandhar',\n 'Rodr%C3%ADguez_(Uruguay)',\n 'Sikar',\n 'Kaohsiung',\n 'Lappeenranta',\n 'Osijek',\n 'Schwerin',\n 'Malabo',\n 'Hosapete',\n 'Naha',\n 'Erfurt',\n 'Sarnia',\n 'Brazzaville',\n 'Colina',\n 'Ras%C5%8Fn',\n 'Ramla',\n 'Rustawi',\n 'Dresden',\n 'Windsor_(Ontario)',\n 'Mo%C3%A7%C3%A2medes',\n 'Comodoro_Rivadavia',\n 'Burgus_Dunak%C3%B6ml%C5%91d',\n 'Burgus_Neuwied-Engers',\n 'Heidenburg_(r%C3%B6mischer_Burgus)',\n 'Burgus_Szob',\n 'Burgus_Burgsalach',\n 'Qasr_Aseikhin',\n 'Burgus_Ahegg',\n 'Burgus_Hollenburg',\n 'Burgus_Ba%C4%8D-B%C3%A1cs',\n 'Burgus_Finningen',\n 'Burgus_Szentendre-Hunka',\n 'Wacht%C3%BCrme_Ybbs',\n 'Burgus_Oberranna',\n 'Burgus_Asperden',\n 'Burgus_Le%C3%A1nyfalu',\n 'Akropolis_von_Rhodos',\n 'Burgus_Budakal%C3%A1sz-Luppa_cs%C3%A1rda',\n 'Burgus_Szigetmonostor-Hor%C3%A1ny',\n 'Burgus_Au-Hard',\n 'Burgus_B%C3%B6lcske',\n 'Burgus_Dunakeszi',\n 'Akropolis_von_Lindos',\n 'Burgus_Tahit%C3%B3tfalu-Balhav%C3%A1r',\n 'Wachturm_Hirschleitengraben',\n 'Hannover',\n 'Libreville',\n 'Tel_Aviv-Jaffa',\n 'Aksaray',\n 'Dubrovnik',\n 'Bangui',\n 'Rustenburg',\n 'Kumasi',\n 'Tobruk',\n 'M%C3%BCnchen',\n 'Sanremo',\n 'Walvis_Bay',\n 'Malakal',\n 'Qasr_Abu_Rukba',\n 'Konstanz',\n 'Roubaix',\n 'Maiduguri',\n 'Tourcoing',\n 'Chania',\n 'Bujumbura',\n 'Combarbal%C3%A1',\n 'Thunder_Bay_(Ontario)',\n 'Polessk',\n 'Stirling',\n 'Magdeburg',\n 'Ibagu%C3%A9',\n 'Kanyakumari',\n 'Innsbruck',\n 'Kano',\n 'Funafuti',\n 'Conc%C3%B3n',\n 'Qaanaaq',\n 'Coronel_(Stadt)',\n 'Lilongwe',\n 'Cochabamba',\n 'Feldkirch',\n 'Barrie_(Ontario)',\n 'Brantford',\n 'Bobo-Dioulasso',\n 'Al-Mansura_(%C3%84gypten)',\n 'Oxford',\n 'Bregenz',\n 'Ioannina',\n 'Lusaka',\n 'Burlington_(Ontario)',\n 'Belleville_(Ontario)',\n 'Kopenhagen',\n 'Pointe-Noire',\n 'Lobito',\n 'Manama',\n 'Ibadan',\n 'Safi',\n 'Dschalalabad',\n 'Rotterdam',\n 'Piura_(Stadt)',\n 'Waterford',\n 'Catanzaro',\n 'Stockholm',\n 'Mombasa',\n 'Zou%C3%A9rat',\n 'Maputo',\n 'Johannesburg',\n 'Lanzhou',\n 'Zqaltubo',\n 'Zubair_(Stadt)',\n 'Curanilahue',\n 'Madurai',\n 'Zud%C3%A1%C3%B1ez',\n 'Kingston_(Jamaika)',\n 'Tokat',\n 'Zenica',\n 'Reykjav%C3%ADk',\n 'Preston',\n 'Nax%C3%A7%C4%B1van_(Stadt)',\n 'Zumbo',\n 'Bratislava',\n 'Colchester',\n 'Stuttgart',\n 'Santo_Domingo',\n 'Erdenet',\n 'Leh',\n 'Zuwara',\n 'Geelong',\n 'Kiel',\n 'Kochi_(Indien)',\n 'Brisbane',\n 'Nouadhibou',\n 'Zeghanghane',\n 'Alt%C4%B1nordu',\n 'Puno',\n 'Luxemburg_(Stadt)',\n 'Megara',\n 'Schwerin',\n 'Stadt_San_Marino',\n 'Kohima',\n 'Gisborne',\n 'Trinidad_(Bolivien)',\n 'Cobija_(Bolivien)',\n 'Sugdidi',\n 'Baia_Mare',\n 'Darchan',\n 'Suwa%C5%82ki',\n 'Ho-Chi-Minh-Stadt',\n 'Poti',\n 'D%C3%BCsseldorf',\n 'Solapur',\n 'Gali',\n 'Potsdam',\n 'Cholet',\n 'Tlemcen',\n 'Bangor_(Wales)',\n 'Che%C5%82m',\n 'Tarija',\n 'Lismore_(New_South_Wales)',\n 'Potos%C3%AD',\n 'Phnom_Penh',\n 'Al-Ain',\n 'Hannover',\n 'Guant%C3%A1namo',\n 'Kuwait_(Stadt)',\n 'Ceyhan',\n 'Bundaberg',\n 'Tajynscha',\n 'Oruro',\n 'Dar%CA%BF%C4%81',\n 'Hanoi',\n 'Colombo',\n 'Mainz',\n 'Multan',\n 'Gurugram',\n 'Al-Arisch',\n 'Almaty',\n 'Saarbr%C3%BCcken',\n 'Mandalay',\n 'Quetta',\n 'Deir_ez-Zor',\n 'Bangkok',\n 'Freiburg_im_Breisgau',\n 'Vi%C5%A1egrad',\n 'Edfu',\n 'Al-Baida',\n 'Bir%C5%A1tonas',\n 'Wolin_(Stadt)',\n 'Nakuru',\n 'Kitwe',\n 'Maros_(Sulawesi)',\n 'Ayodhya',\n 'Kenge',\n 'Milwaukee',\n 'Andorra_la_Vella',\n 'Lwiw',\n 'Comrat',\n 'Plasencia',\n 'Gangtok',\n 'Bridgetown',\n 'Racine_(Wisconsin)',\n 'Dharamsala',\n 'Gar%C3%B0ab%C3%A6r',\n 'Andrijevica',\n 'Bhilai',\n 'Madison_(Wisconsin)',\n 'Kuala_Lumpur',\n 'Brega_(Libyen)',\n 'Tremblay-en-France',\n 'Kufa',\n 'Oconomowoc',\n 'Lake_Geneva_(Wisconsin)',\n 'Waukesha',\n 'Apia',\n 'Taipeh',\n 'Saharanpur',\n 'Ab%C3%A9ch%C3%A9',\n 'Joensuu',\n 'Appleton_(Wisconsin)',\n 'Eau_Claire_(Wisconsin)',\n 'Saint_John%E2%80%99s_(Antigua_und_Barbuda)',\n 'Jaisalmer',\n 'Bhavnagar',\n 'Jhansi',\n 'Roseau',\n 'Ahuachap%C3%A1n_(Stadt)',\n 'Embu_(Kenia)',\n 'Gryfino',\n 'Greenfield_(Wisconsin)',\n 'Bologna',\n 'Morogoro',\n 'Gujranwala',\n 'Salta_(Stadt)',\n 'Hurghada',\n 'Changwon',\n 'Khulna',\n 'Janesville_(Wisconsin)',\n 'West_Allis',\n 'Kenosha',\n 'Calgary',\n 'Constantine',\n 'Kavala',\n 'Catania',\n 'Cumae',\n 'Rosette_(%C3%84gypten)',\n 'Muskego',\n 'Manitowoc',\n 'Lubumbashi',\n 'Abiko_(Chiba)',\n 'Hilla',\n 'Caserta',\n 'Inglewood',\n 'San_Rafael_(Kalifornien)',\n 'Aberdeen',\n 'S%C3%A9tif',\n 'Santa_Maria_(Kalifornien)',\n 'Wollongong',\n 'Holgu%C3%ADn',\n 'Pinar_del_R%C3%ADo',\n 'Mardin',\n 'Zonguldak',\n 'Santa_B%C3%A1rbara_(Chile)',\n 'Del_Mar_(Kalifornien)',\n 'Albany_(Kalifornien)',\n 'Cypress_(Kalifornien)',\n 'Den_Haag',\n 'Sunderland',\n 'Bani_Walid',\n 'Dhanbad',\n 'Petaluma',\n 'Alhambra_(Kalifornien)',\n 'Safed',\n 'Cork',\n 'Q%C9%99b%C9%99l%C9%99_(Stadt)',\n 'Kigoma_(Tansania)',\n 'Blantyre_(Malawi)',\n 'K%C3%BCtahya',\n 'Pardubice',\n 'Munger_(Stadt)',\n 'Beloit_(Wisconsin)',\n 'Kingsburg',\n 'Phrae_(Provinz)',\n 'Chinantequilla',\n 'Mytilini',\n 'Auckland',\n 'Grass_Valley_(Kalifornien)',\n 'Solvang_(Kalifornien)',\n 'Hierapytna',\n 'Milatos',\n 'Alajuela',\n 'Tudela_(Navarra)',\n 'Neu-Taipeh',\n 'Le%C3%B3n_(Mexiko)',\n 'Cairns',\n 'Loma_Linda',\n 'Gilroy',\n 'U%C5%9Fak',\n 'Lublin',\n 'Taichung',\n 'Whittier',\n 'Buena_Park',\n 'Hermosillo',\n 'Bromiskos',\n 'Boione',\n 'Zel%C3%B3w',\n 'Utena',\n 'Needles',\n 'Redondo_Beach',\n 'Rutana',\n 'Rwamagana',\n 'Strzegom',\n 'Ruhengeri',\n 'Naypyidaw',\n 'Oroville_(Kalifornien)',\n 'San_Leandro',\n 'Dinant',\n 'Cupertino',\n 'Damiette',\n 'Karnak',\n 'Abu_Dis',\n 'Dolisie',\n 'Polkowice',\n 'King_City_(Kalifornien)',\n 'Placentia_(Kalifornien)',\n 'Maaseik',\n 'L%C3%B6wen',\n 'Bloemfontein',\n 'Bizerte',\n 'Watsonville',\n 'Temple_City',\n 'Santee_(Kalifornien)',\n 'Z%C4%85bkowice_%C5%9Al%C4%85skie',\n 'Z%C3%A1rate',\n 'Sambhal',\n 'Abomey',\n 'Namur',\n 'Port_Vila',\n 'Vista_(Kalifornien)',\n 'Industry_(Kalifornien)',\n 'Z%C3%BClz',\n 'Z%C5%82ocieniec',\n 'Traralgon',\n 'Eupen',\n 'Karab%C3%BCk',\n 'Courbevoie',\n 'Z%C9%99ngilan_(Stadt)',\n 'Z%C5%82oczew',\n 'Z%C5%82oty_Stok',\n 'Brookfield_(Wisconsin)',\n 'Porterville_(Kalifornien)',\n 'Rangun',\n 'Saint-Pierre_(R%C3%A9union)',\n 'Herakleopolis_Magna',\n 'J%C4%99drzej%C3%B3w_(J%C4%99drzej%C3%B3w)',\n 'Malmedy',\n 'Sankt_Vith',\n 'Angers',\n 'Oshkosh_(Wisconsin)',\n 'Vernon_(Kalifornien)',\n 'Hsinchu',\n '%C3%81guilas',\n 'Mechelen',\n 'La_Roche-en-Ardenne',\n 'La_Crosse_(Wisconsin)',\n 'Chippewa_Falls',\n 'Los_Alamitos',\n 'Turku',\n 'Folsom_(Kalifornien)',\n 'Lindsay_(Kalifornien)',\n 'Verviers',\n 'Waregem',\n 'Amlapura',\n 'Irwindale',\n 'Superior_(Wisconsin)',\n 'Nasiriya',\n 'Nuku%CA%BBalofa',\n 'Rishton_(Usbekistan)',\n 'Keelung',\n 'Marysville_(Kalifornien)',\n 'Two_Rivers_(Wisconsin)',\n 'Tournai',\n 'Adana',\n 'Purbalingga',\n 'Wonosari_(Gunungkidul)',\n 'Gianyar_(Kecamatan)',\n 'Bangli',\n 'Wavre',\n 'Tongern',\n 'Suva',\n 'Port_Hueneme',\n 'La_Quinta',\n 'Norco_(Kalifornien)',\n 'Lommel',\n 'Seraing',\n '%C3%81lamos',\n 'San_Francisco',\n 'Wa_(Ghana)',\n 'Huy_(Belgien)',\n 'Halle_(Belgien)',\n 'Wonosobo',\n 'Banyuwangi',\n 'Marina_(Kalifornien)',\n 'Sheboygan',\n 'Los_Angeles',\n 'Gabane',\n 'Thamaga',\n 'Sungailiat',\n 'Kota_Pinang',\n 'Salak_(Stadt)',\n 'Roeselare',\n 'Herstal',\n 'Shafter_(Kalifornien)',\n 'Signal_Hill',\n 'Fond_du_Lac',\n 'Huntington_Beach',\n 'Menen',\n 'La_Louvi%C3%A8re',\n 'Woodlake_(Kalifornien)',\n 'Exeter_(Kalifornien)',\n 'West_Bend_(Wisconsin)',\n 'Lemoore',\n 'Dinuba',\n 'Cheyenne_(Wyoming)',\n 'Kepahiang',\n 'Mangupura',\n 'Masohi',\n 'San_Diego',\n 'Bouillon_(Belgien)',\n 'Diksmuide',\n 'Gembloux',\n 'Zottegem',\n 'Mouscron',\n 'San_Jos%C3%A9_(Kalifornien)',\n 'Leeds',\n 'Wisconsin_Rapids',\n 'Stevens_Point',\n 'Wausau',\n 'Bilzen',\n 'Zoutleeuw',\n 'Long_Beach_(Kalifornien)',\n 'New_Berlin_(Wisconsin)',\n 'Oak_Creek_(Wisconsin)',\n 'Marche-en-Famenne',\n 'Beringen_(Belgien)',\n 'Ronse',\n 'Port_of_Spain',\n 'Oakland',\n 'Turnhout',\n 'Torhout',\n 'Marinette_(Wisconsin)',\n 'Baraboo',\n 'Wauwatosa',\n 'Birkirkara',\n 'Bod%C3%B8_(Tettsted)',\n 'Kepanjen',\n 'Cannes',\n 'Sacramento',\n 'Aarschot',\n 'Bree',\n 'Ajaccio',\n 'Cedarburg',\n 'Cudahy_(Wisconsin)',\n 'Franklin_(Wisconsin)',\n 'Watertown_(Wisconsin)',\n 'Fleurus',\n 'Wervik',\n 'Vilvoorde',\n 'Hobart',\n 'A%C3%AFt-Ben-Haddou',\n 'Sun_Prairie',\n 'Glendale_(Wisconsin)',\n 'Hartford_(Wisconsin)',\n ...]"
     },
     "execution_count": 18,
     "metadata": {},
     "output_type": "execute_result"
    }
   ],
   "source": [
    "cityname_list = [name.split(\"/\")[-1] for name in list_of_links]\n",
    "cityname_list"
   ],
   "metadata": {
    "collapsed": false
   }
  },
  {
   "cell_type": "code",
   "execution_count": 35,
   "outputs": [
    {
     "data": {
      "text/plain": "['af_citynames.pkl',\n 'ar_citynames.pkl',\n 'az_citynames.pkl',\n 'be_citynames.pkl',\n 'bg_citynames.pkl',\n 'bn_citynames.pkl',\n 'ca_citynames.pkl',\n 'cs_citynames.pkl',\n 'da_citynames.pkl',\n 'de_citynames.pkl',\n 'el_citynames.pkl',\n 'en_citynames.pkl',\n 'eo_citynames.pkl',\n 'es_citynames.pkl',\n 'et_citynames.pkl',\n 'eu_citynames.pkl',\n 'fa_citynames.pkl',\n 'fi_citynames.pkl',\n 'fr_citynames.pkl',\n 'gl_citynames.pkl',\n 'he_citynames.pkl',\n 'hi_citynames.pkl',\n 'hr_citynames.pkl',\n 'hu_citynames.pkl',\n 'hy_citynames.pkl',\n 'id_citynames.pkl',\n 'it_citynames.pkl',\n 'ja_citynames.pkl',\n 'ka_citynames.pkl',\n 'kk_citynames.pkl',\n 'kn_citynames.pkl',\n 'ko_citynames.pkl',\n 'lt_citynames.pkl',\n 'lv_citynames.pkl',\n 'mk_citynames.pkl',\n 'ml_citynames.pkl',\n 'ms_citynames.pkl',\n 'nl_citynames.pkl',\n 'no_citynames.pkl',\n 'pl_citynames.pkl',\n 'pt_citynames.pkl',\n 'ro_citynames.pkl',\n 'ru_citynames.pkl',\n 'sk_citynames.pkl',\n 'sl_citynames.pkl',\n 'sq_citynames.pkl',\n 'sr_citynames.pkl',\n 'sv_citynames.pkl',\n 'ta_citynames.pkl',\n 'th_citynames.pkl',\n 'tr_citynames.pkl',\n 'uk_citynames.pkl',\n 'ur_citynames.pkl',\n 'uz_citynames.pkl',\n 'vi_citynames.pkl',\n 'zh_citynames.pkl']"
     },
     "execution_count": 35,
     "metadata": {},
     "output_type": "execute_result"
    }
   ],
   "source": [
    "import os\n",
    "\n",
    "os.listdir(\"./multilingual_citylists\")"
   ],
   "metadata": {
    "collapsed": false
   }
  }
 ],
 "metadata": {
  "kernelspec": {
   "display_name": "Python 3",
   "language": "python",
   "name": "python3"
  },
  "language_info": {
   "codemirror_mode": {
    "name": "ipython",
    "version": 2
   },
   "file_extension": ".py",
   "mimetype": "text/x-python",
   "name": "python",
   "nbconvert_exporter": "python",
   "pygments_lexer": "ipython2",
   "version": "2.7.6"
  }
 },
 "nbformat": 4,
 "nbformat_minor": 0
}
